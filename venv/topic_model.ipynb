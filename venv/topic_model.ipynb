{
 "cells": [
  {
   "cell_type": "code",
   "execution_count": null,
   "metadata": {
    "collapsed": true
   },
   "outputs": [],
   "source": [
    ""
   ]
  },
  {
   "cell_type": "code",
   "execution_count": 2,
   "metadata": {},
   "outputs": [],
   "source": [
    "file1 = open('1.txt','w')\n",
    "file1.write(\"에 불과했다. 두 사람 말고는 이 세상 누구도 관심을 갖지 않는 수수께끼를 두고 벌이는 의식. 꽃의 학명은 ‘렙토스페르뭄 루비네테’였다. 평범한 관목 가지에 히스의 그것을 닮은 작은 잎사귀가 몇 개, 그 위에 꽃잎 다섯 장이 달린 지름 2센티미터 정도의 흰 꽃이 붙어 있는 식물. 전체 길이는 12센티미터 남짓했다. 주로 호주의 황무지나 고원지대에서 덤불로 무성하게 자라는 식물이다. 현지인들은 ‘사막의 눈 雪 ’이라고 불렀다. 나중에 문의한 웁살라 식물원의 전문가에 따르면, 스웨덴에서는 좀처럼 재배하지 않는 희귀한 식물이라고 했다. 그 여성 식물학자는 보고서에서 이 식물이 차 茶 나무와 친척 간이며, 뉴질랜드에 지천으로 깔린 사촌 격 식물 ‘렙토스페르뭄 스코파리움’과 혼동되기도 한다고 설명했다. 차이가 있다면 루비네테 꽃잎 끝에 난 미세한 붉은 점들인데, 이 때문에 루비네테는 은은한 분홍빛으로 보인다. 일반적인 관점에서 말하자면 루비네테는 지극히 평범한 꽃이다. 않았다. 먹을 수도 없고, 향료나 염료로 쓸 수도 없다. 하지만 호주 원주민들에게는 중요한 의미를 지닌다고 했다. 하기야 세계의 중심이라 믿는 에어즈록 주변의 모든 땅과 식물에 신성한 의미를 부여하는 사람들이니까. 그들의 관점이 어떠하든 이 꽃의 유일한 목적은 그 변덕스러운 아름다움으로 주변 풍경을 꾸미는 것이리라. 웁살라의 식물학자는 보고서에서 이 ‘사막의 눈’이 원산지 호주에서조차 그리 흔하지 않으며, 스칸디나비아반도에서는 거의 찾아보기 힘든 꽃이라고 덧붙였다. 개인적으로는 한 번도 본 적이 없고, 예테보리의 한 식물원에서 들여오려고 한 적이 있다는 말을 동료들로부터 들었다고 했다. 아마추어 정원사나 식물학 마니아 등이 소규모 온실에서 재배하고 있을 가능성은 거의 없다고 덧붙였다. 따뜻하고 건조한 기후를 요하는 식물이다보니 겨울철 내내 실내에 두어야 하는데, 그런 식물은 스웨덴에서 기르기 어려웠다. 스웨덴의 석회질 토양도 부적합했다. 뿌리로 직접 지하수를 빨아들여야만 한다는 것이다.\")\n",
    "file1.close()\n",
    "#1.txt 파일은 이곳에서 만들게 되면 C:\\Users\\soomin\\1.txt로 생성됨"
   ]
  },
  {
   "cell_type": "code",
   "execution_count": 4,
   "metadata": {},
   "outputs": [],
   "source": [
    "vocabulary = {}"
   ]
  },
  {
   "cell_type": "code",
   "execution_count": 5,
   "metadata": {},
   "outputs": [],
   "source": [
    "with open ('1.txt', 'r') as file1:\n",
    "    for line in file1:\n",
    "        splits = line.split()\n",
    "        label = splits[0]\n",
    "        text = splits[1:]\n",
    "        \n",
    "        for word in text:\n",
    "            lower = word.lower()\n",
    "            if not word in vocabulary:\n",
    "                vocabulary[word] = len(vocabulary)"
   ]
  },
  {
   "cell_type": "code",
   "execution_count": 6,
   "metadata": {},
   "outputs": [
    {
     "name": "stdout",
     "output_type": "stream",
     "text": [
      "{'불과했다.': 0, '두': 1, '사람': 2, '말고는': 3, '이': 4, '세상': 5, '누구도': 6, '관심을': 7, '갖지': 8, '않는': 9, '수수께끼를': 10, '두고': 11, '벌이는': 12, '의식.': 13, '꽃의': 14, '학명은': 15, '‘렙토스페르뭄': 16, '루비네테’였다.': 17, '평범한': 18, '관목': 19, '가지에': 20, '히스의': 21, '그것을': 22, '닮은': 23, '작은': 24, '잎사귀가': 25, '몇': 26, '개,': 27, '그': 28, '위에': 29, '꽃잎': 30, '다섯': 31, '장이': 32, '달린': 33, '지름': 34, '2센티미터': 35, '정도의': 36, '흰': 37, '꽃이': 38, '붙어': 39, '있는': 40, '식물.': 41, '전체': 42, '길이는': 43, '12센티미터': 44, '남짓했다.': 45, '주로': 46, '호주의': 47, '황무지나': 48, '고원지대에서': 49, '덤불로': 50, '무성하게': 51, '자라는': 52, '식물이다.': 53, '현지인들은': 54, '‘사막의': 55, '눈': 56, '雪': 57, '’이라고': 58, '불렀다.': 59, '나중에': 60, '문의한': 61, '웁살라': 62, '식물원의': 63, '전문가에': 64, '따르면,': 65, '스웨덴에서는': 66, '좀처럼': 67, '재배하지': 68, '희귀한': 69, '식물이라고': 70, '했다.': 71, '여성': 72, '식물학자는': 73, '보고서에서': 74, '식물이': 75, '차': 76, '茶': 77, '나무와': 78, '친척': 79, '간이며,': 80, '뉴질랜드에': 81, '지천으로': 82, '깔린': 83, '사촌': 84, '격': 85, '식물': 86, '스코파리움’과': 87, '혼동되기도': 88, '한다고': 89, '설명했다.': 90, '차이가': 91, '있다면': 92, '루비네테': 93, '끝에': 94, '난': 95, '미세한': 96, '붉은': 97, '점들인데,': 98, '때문에': 99, '루비네테는': 100, '은은한': 101, '분홍빛으로': 102, '보인다.': 103, '일반적인': 104, '관점에서': 105, '말하자면': 106, '지극히': 107, '꽃이다.': 108, '않았다.': 109, '먹을': 110, '수도': 111, '없고,': 112, '향료나': 113, '염료로': 114, '쓸': 115, '없다.': 116, '하지만': 117, '호주': 118, '원주민들에게는': 119, '중요한': 120, '의미를': 121, '지닌다고': 122, '하기야': 123, '세계의': 124, '중심이라': 125, '믿는': 126, '에어즈록': 127, '주변의': 128, '모든': 129, '땅과': 130, '식물에': 131, '신성한': 132, '부여하는': 133, '사람들이니까.': 134, '그들의': 135, '관점이': 136, '어떠하든': 137, '유일한': 138, '목적은': 139, '변덕스러운': 140, '아름다움으로': 141, '주변': 142, '풍경을': 143, '꾸미는': 144, '것이리라.': 145, '웁살라의': 146, '눈’이': 147, '원산지': 148, '호주에서조차': 149, '그리': 150, '흔하지': 151, '않으며,': 152, '스칸디나비아반도에서는': 153, '거의': 154, '찾아보기': 155, '힘든': 156, '꽃이라고': 157, '덧붙였다.': 158, '개인적으로는': 159, '한': 160, '번도': 161, '본': 162, '적이': 163, '예테보리의': 164, '식물원에서': 165, '들여오려고': 166, '있다는': 167, '말을': 168, '동료들로부터': 169, '들었다고': 170, '아마추어': 171, '정원사나': 172, '식물학': 173, '마니아': 174, '등이': 175, '소규모': 176, '온실에서': 177, '재배하고': 178, '있을': 179, '가능성은': 180, '없다고': 181, '따뜻하고': 182, '건조한': 183, '기후를': 184, '요하는': 185, '식물이다보니': 186, '겨울철': 187, '내내': 188, '실내에': 189, '두어야': 190, '하는데,': 191, '그런': 192, '식물은': 193, '스웨덴에서': 194, '기르기': 195, '어려웠다.': 196, '스웨덴의': 197, '석회질': 198, '토양도': 199, '부적합했다.': 200, '뿌리로': 201, '직접': 202, '지하수를': 203, '빨아들여야만': 204, '한다는': 205, '것이다.': 206}\n"
     ]
    }
   ],
   "source": [
    "print(vocabulary)"
   ]
  },
  {
   "cell_type": "code",
   "execution_count": 9,
   "metadata": {},
   "outputs": [],
   "source": [
    "# file.py\n",
    "import sys\n",
    "sys.path.insert(0, '/Male')\n",
    "import app"
   ]
  },
  {
   "cell_type": "code",
   "execution_count": 10,
   "metadata": {},
   "outputs": [],
   "source": [
    "import app"
   ]
  },
  {
   "cell_type": "code",
   "execution_count": 17,
   "metadata": {},
   "outputs": [],
   "source": [
    "import sqlite3"
   ]
  },
  {
   "cell_type": "code",
   "execution_count": 19,
   "metadata": {},
   "outputs": [
    {
     "data": {
      "text/plain": [
       "<sqlite3.Cursor at 0x59970e0>"
      ]
     },
     "execution_count": 19,
     "metadata": {},
     "output_type": "execute_result"
    }
   ],
   "source": [
    "conn = sqlite3.connect(\"test.db\")\n",
    "cur = conn.cursor()\n",
    "cur.execute(\"select * from male_string\")"
   ]
  },
  {
   "cell_type": "code",
   "execution_count": 23,
   "metadata": {},
   "outputs": [],
   "source": [
    "sql = \"select * from male_string\"\n",
    "testMale = cur.execute(sql)"
   ]
  },
  {
   "cell_type": "code",
   "execution_count": 25,
   "metadata": {},
   "outputs": [
    {
     "name": "stdout",
     "output_type": "stream",
     "text": [
      "<sqlite3.Cursor object at 0x059970E0>\n"
     ]
    }
   ],
   "source": [
    "print(testMale)"
   ]
  },
  {
   "cell_type": "code",
   "execution_count": 27,
   "metadata": {},
   "outputs": [],
   "source": [
    "conn.commit()"
   ]
  },
  {
   "cell_type": "code",
   "execution_count": 30,
   "metadata": {},
   "outputs": [
    {
     "data": {
      "text/plain": [
       "[<MaleString 1>, <MaleString 3>, <MaleString 4>, <MaleString 5>]"
      ]
     },
     "execution_count": 30,
     "metadata": {},
     "output_type": "execute_result"
    }
   ],
   "source": [
    "app.MaleString.query.all()"
   ]
  },
  {
   "cell_type": "code",
   "execution_count": 33,
   "metadata": {},
   "outputs": [
    {
     "data": {
      "text/plain": [
       "1"
      ]
     },
     "execution_count": 33,
     "metadata": {},
     "output_type": "execute_result"
    }
   ],
   "source": [
    "app.MaleString.query.get(1).id"
   ]
  },
  {
   "cell_type": "code",
   "execution_count": 36,
   "metadata": {},
   "outputs": [
    {
     "data": {
      "text/plain": [
       "'안녕하세요 수민씨 아무래도 id문제를 해결하셔야 할 것 같군뇨,,,'"
      ]
     },
     "execution_count": 36,
     "metadata": {},
     "output_type": "execute_result"
    }
   ],
   "source": [
    "app.MaleString.query.get(3).descript"
   ]
  },
  {
   "cell_type": "code",
   "execution_count": 39,
   "metadata": {},
   "outputs": [],
   "source": [
    "file1 = app.MaleString.query.get(3).descript\n",
    "#1.txt 파일은 이곳에서 만들게 되면 C:\\Users\\soomin\\1.txt로 생성됨\n",
    "vocabulary = {}"
   ]
  },
  {
   "cell_type": "code",
   "execution_count": 10,
   "metadata": {},
   "outputs": [
    {
     "name": "stderr",
     "output_type": "stream",
     "text": [
      "C:\\Users\\soomin\\PycharmProjects\\Male\\venv\\lib\\site-packages\\flask_sqlalchemy\\__init__.py:794: FSADeprecationWarning: SQLALCHEMY_TRACK_MODIFICATIONS adds significant overhead and will be disabled by default in the future.  Set it to True or False to suppress this warning.\n  'SQLALCHEMY_TRACK_MODIFICATIONS adds significant overhead and '\n"
     ]
    }
   ],
   "source": [
    "import  app\n",
    "file1 = open('1.txt','w')\n",
    "file1.write(app.MaleString.query.get(3).descript)\n",
    "file1.close()\n",
    "#1.txt 파일은 이곳에서 만들게 되면 C:\\Users\\soomin\\1.txt로 생성됨"
   ]
  },
  {
   "cell_type": "code",
   "execution_count": 52,
   "metadata": {},
   "outputs": [],
   "source": [
    "vocabulary = {}\n",
    "with open ('1.txt', 'r') as file1:\n",
    "    for line in file1:\n",
    "        splits = line.split()\n",
    "        label = splits[0]\n",
    "        text = splits[1:]\n",
    "        \n",
    "        for word in text:\n",
    "            lower = word.lower()\n",
    "            if not word in vocabulary:\n",
    "                vocabulary[word] = len(vocabulary)"
   ]
  },
  {
   "cell_type": "code",
   "execution_count": 54,
   "metadata": {},
   "outputs": [
    {
     "name": "stdout",
     "output_type": "stream",
     "text": [
      "{'수민씨': 0, '아무래도': 1, 'id문제를': 2, '해결하셔야': 3, '할': 4, '것': 5, '같군뇨,,,': 6}\n안녕하세요\n['수민씨', '아무래도', 'id문제를', '해결하셔야', '할', '것', '같군뇨,,,']\n"
     ]
    }
   ],
   "source": [
    "print(vocabulary)\n",
    "print(label)\n",
    "print(text)"
   ]
  },
  {
   "cell_type": "code",
   "execution_count": 3,
   "metadata": {},
   "outputs": [],
   "source": [
    "import numpy as np"
   ]
  },
  {
   "cell_type": "code",
   "execution_count": 1,
   "metadata": {},
   "outputs": [
    {
     "ename": "NameError",
     "evalue": "name 'app' is not defined",
     "traceback": [
      "\u001b[0;31m---------------------------------------------------------------------------\u001b[0m",
      "\u001b[0;31mNameError\u001b[0m                                 Traceback (most recent call last)",
      "\u001b[0;32m<ipython-input-1-ca68147c5725>\u001b[0m in \u001b[0;36m<module>\u001b[0;34m()\u001b[0m\n\u001b[1;32m      2\u001b[0m \u001b[0mvocabulary\u001b[0m \u001b[0;34m=\u001b[0m \u001b[0;34m{\u001b[0m\u001b[0;34m}\u001b[0m\u001b[0;34m\u001b[0m\u001b[0m\n\u001b[1;32m      3\u001b[0m \u001b[0mfile1\u001b[0m \u001b[0;34m=\u001b[0m \u001b[0mopen\u001b[0m\u001b[0;34m(\u001b[0m\u001b[0;34m'1.txt'\u001b[0m\u001b[0;34m,\u001b[0m\u001b[0;34m'w'\u001b[0m\u001b[0;34m)\u001b[0m\u001b[0;34m\u001b[0m\u001b[0m\n\u001b[0;32m----> 4\u001b[0;31m \u001b[0mfile1\u001b[0m\u001b[0;34m.\u001b[0m\u001b[0mwrite\u001b[0m\u001b[0;34m(\u001b[0m\u001b[0mapp\u001b[0m\u001b[0;34m.\u001b[0m\u001b[0mMaleString\u001b[0m\u001b[0;34m.\u001b[0m\u001b[0mquery\u001b[0m\u001b[0;34m.\u001b[0m\u001b[0mget\u001b[0m\u001b[0;34m(\u001b[0m\u001b[0;36m3\u001b[0m\u001b[0;34m)\u001b[0m\u001b[0;34m.\u001b[0m\u001b[0mdescript\u001b[0m\u001b[0;34m)\u001b[0m\u001b[0;34m\u001b[0m\u001b[0m\n\u001b[0m\u001b[1;32m      5\u001b[0m \u001b[0mfile1\u001b[0m\u001b[0;34m.\u001b[0m\u001b[0mclose\u001b[0m\u001b[0;34m(\u001b[0m\u001b[0;34m)\u001b[0m\u001b[0;34m\u001b[0m\u001b[0m\n\u001b[1;32m      6\u001b[0m \u001b[0;32mimport\u001b[0m  \u001b[0mapp\u001b[0m\u001b[0;34m\u001b[0m\u001b[0m\n",
      "\u001b[0;31mNameError\u001b[0m: name 'app' is not defined"
     ],
     "output_type": "error"
    }
   ],
   "source": [
    "features = []\n",
    "vocabulary = {}\n",
    "file1 = open('1.txt','w')\n",
    "file1.write(app.MaleString.query.get(3).descript)\n",
    "file1.close()\n",
    "import  app\n",
    "with open ('1.txt', 'r') as file1:\n",
    "    for line in file1:\n",
    "        splits = line.split()\n",
    "        label = splits[0]\n",
    "        text = splits[1:]\n",
    "        \n",
    "        for word in text:\n",
    "            lower = word.lower()\n",
    "            if not word in vocabulary:\n",
    "                vocabulary[word] = len(vocabulary)\n",
    "\n",
    "\n",
    "with open('1.txt') as file2:\n",
    "    for line in file2:\n",
    "        feature = np.zeros(len(vocabulary))\n",
    "        text = splits[1:]\n",
    "        for word in text:\n",
    "            lower = word.lower()\n",
    "            feature[vocabulary[lower]]+=1\n",
    "            \n",
    "        feature = feature/sum(feature)\n",
    "        features.append(feature)\n",
    "        \n",
    "print(features)\n",
    "print(feature)\n",
    "print(vocabulary)"
   ]
  },
  {
   "cell_type": "code",
   "execution_count": 10,
   "metadata": {
    "collapsed": false
   },
   "outputs": [
    {
     "name": "stderr",
     "output_type": "stream",
     "text": [
      "C:\\Users\\soomin\\PycharmProjects\\Male\\venv\\lib\\site-packages\\flask_sqlalchemy\\__init__.py:794: FSADeprecationWarning: SQLALCHEMY_TRACK_MODIFICATIONS adds significant overhead and will be disabled by default in the future.  Set it to True or False to suppress this warning.\n  'SQLALCHEMY_TRACK_MODIFICATIONS adds significant overhead and '\n"
     ]
    },
    {
     "name": "stdout",
     "output_type": "stream",
     "text": [
      "[array([0.01818182, 0.01818182, 0.01818182, 0.05454545, 0.01818182,\n       0.03636364, 0.01818182, 0.01818182, 0.01818182, 0.01818182,\n       0.01818182, 0.01818182, 0.01818182, 0.01818182, 0.01818182,\n       0.01818182, 0.01818182, 0.03636364, 0.03636364, 0.01818182,\n       0.01818182, 0.01818182, 0.01818182, 0.01818182, 0.01818182,\n       0.01818182, 0.01818182, 0.01818182, 0.01818182, 0.01818182,\n       0.01818182, 0.01818182, 0.01818182, 0.01818182, 0.01818182,\n       0.01818182, 0.01818182, 0.01818182, 0.01818182, 0.03636364,\n       0.03636364, 0.01818182, 0.01818182, 0.01818182, 0.01818182,\n       0.01818182, 0.01818182, 0.01818182])]\n[0.01818182 0.01818182 0.01818182 0.05454545 0.01818182 0.03636364\n 0.01818182 0.01818182 0.01818182 0.01818182 0.01818182 0.01818182\n 0.01818182 0.01818182 0.01818182 0.01818182 0.01818182 0.03636364\n 0.03636364 0.01818182 0.01818182 0.01818182 0.01818182 0.01818182\n 0.01818182 0.01818182 0.01818182 0.01818182 0.01818182 0.01818182\n 0.01818182 0.01818182 0.01818182 0.01818182 0.01818182 0.01818182\n 0.01818182 0.01818182 0.01818182 0.03636364 0.03636364 0.01818182\n 0.01818182 0.01818182 0.01818182 0.01818182 0.01818182 0.01818182]\n{'현재': 0, '연주회를': 1, '앞두고': 2, '있는': 3, '상황이다.': 4, '앞': 5, '일로': 6, '인해': 7, '스트레스를': 8, '심하게': 9, '받고': 10, '상황이지만,': 11, '일을': 12, '부정적으로': 13, '생각하는': 14, '것은': 15, '아니다.': 16, '아이는': 17, '자신의': 18, '연주': 19, '실력에': 20, '자신이': 21, '있고': 22, '그': 23, '것을': 24, '실수': 25, '없이': 26, '뽐내고': 27, '싶어': 28, '내면에': 29, '집중하고': 30, '것일': 31, '뿐이다.': 32, '실력대로': 33, '연주를': 34, '뽐낼': 35, '것이고': 36, '관중들에게': 37, '찬사를': 38, '받을': 39, '것이다.': 40, '그리고': 41, '관중': 42, '속에': 43, '있던': 44, '저명한': 45, '음악가로부터': 46, '칭찬을': 47}\n"
     ]
    }
   ],
   "source": [
    "import  app\n",
    "import numpy as np\n",
    "\n",
    "features = []\n",
    "vocabulary = {}\n",
    "file1 = open('1.txt','w')\n",
    "file1.write(app.MaleString.query.get(1).descript)\n",
    "file1.close()\n",
    "\n",
    "with open ('1.txt', 'r') as file1:\n",
    "    for line in file1:\n",
    "        splits = line.split()\n",
    "        label = splits[0]\n",
    "        text = splits[1:]\n",
    "        \n",
    "        for word in text:\n",
    "            lower = word.lower()\n",
    "            if not word in vocabulary:\n",
    "                vocabulary[word] = len(vocabulary)\n",
    "\n",
    "\n",
    "with open('1.txt') as file2:\n",
    "    for line in file2:\n",
    "        feature = np.zeros(len(vocabulary))\n",
    "        text = splits[1:]\n",
    "        for word in text:\n",
    "            lower = word.lower()\n",
    "            feature[vocabulary[lower]]+=1\n",
    "            \n",
    "        feature = feature/sum(feature)\n",
    "        features.append(feature)\n",
    "        \n",
    "print(features)\n",
    "print(feature)\n",
    "print(vocabulary)"
   ]
  },
  {
   "cell_type": "code",
   "execution_count": 8,
   "metadata": {},
   "outputs": [
    {
     "name": "stdout",
     "output_type": "stream",
     "text": [
      "Requirement already satisfied: virtualenv in c:\\python\\python36-32\\lib\\site-packages (15.2.0)\n"
     ]
    }
   ],
   "source": [
    "!pip3 install virtualenv"
   ]
  },
  {
   "cell_type": "code",
   "execution_count": null,
   "metadata": {},
   "outputs": [
    {
     "ename": "ModuleNotFoundError",
     "evalue": "No module named 'jpype'",
     "traceback": [
      "\u001b[0;31m---------------------------------------------------------------------------\u001b[0m",
      "\u001b[0;31mModuleNotFoundError\u001b[0m                       Traceback (most recent call last)",
      "\u001b[0;32m<ipython-input-4-32cb478bd821>\u001b[0m in \u001b[0;36m<module>\u001b[0;34m()\u001b[0m\n\u001b[0;32m----> 1\u001b[0;31m \u001b[0;32mimport\u001b[0m \u001b[0mkonlpy\u001b[0m\u001b[0;34m\u001b[0m\u001b[0m\n\u001b[0m",
      "\u001b[0;32mC:\\Users\\soomin\\PycharmProjects\\Male\\venv\\lib\\site-packages\\konlpy\\__init__.py\u001b[0m in \u001b[0;36m<module>\u001b[0;34m()\u001b[0m\n\u001b[1;32m     13\u001b[0m \u001b[0;32mfrom\u001b[0m \u001b[0;34m.\u001b[0m \u001b[0;32mimport\u001b[0m \u001b[0mdata\u001b[0m\u001b[0;34m\u001b[0m\u001b[0m\n\u001b[1;32m     14\u001b[0m \u001b[0;32mfrom\u001b[0m \u001b[0;34m.\u001b[0m \u001b[0;32mimport\u001b[0m \u001b[0minternals\u001b[0m\u001b[0;34m\u001b[0m\u001b[0m\n\u001b[0;32m---> 15\u001b[0;31m \u001b[0;32mfrom\u001b[0m \u001b[0;34m.\u001b[0m \u001b[0;32mimport\u001b[0m \u001b[0mtag\u001b[0m\u001b[0;34m\u001b[0m\u001b[0m\n\u001b[0m",
      "\u001b[0;32mC:\\Users\\soomin\\PycharmProjects\\Male\\venv\\lib\\site-packages\\konlpy\\tag\\__init__.py\u001b[0m in \u001b[0;36m<module>\u001b[0;34m()\u001b[0m\n\u001b[1;32m      2\u001b[0m \u001b[0;32mimport\u001b[0m \u001b[0mwarnings\u001b[0m\u001b[0;34m\u001b[0m\u001b[0m\n\u001b[1;32m      3\u001b[0m \u001b[0;34m\u001b[0m\u001b[0m\n\u001b[0;32m----> 4\u001b[0;31m \u001b[0;32mfrom\u001b[0m \u001b[0;34m.\u001b[0m\u001b[0m_hannanum\u001b[0m \u001b[0;32mimport\u001b[0m \u001b[0mHannanum\u001b[0m\u001b[0;34m\u001b[0m\u001b[0m\n\u001b[0m\u001b[1;32m      5\u001b[0m \u001b[0;32mfrom\u001b[0m \u001b[0;34m.\u001b[0m\u001b[0m_kkma\u001b[0m \u001b[0;32mimport\u001b[0m \u001b[0mKkma\u001b[0m\u001b[0;34m\u001b[0m\u001b[0m\n\u001b[1;32m      6\u001b[0m \u001b[0;32mfrom\u001b[0m \u001b[0;34m.\u001b[0m\u001b[0m_komoran\u001b[0m \u001b[0;32mimport\u001b[0m \u001b[0mKomoran\u001b[0m\u001b[0;34m\u001b[0m\u001b[0m\n",
      "\u001b[0;32mC:\\Users\\soomin\\PycharmProjects\\Male\\venv\\lib\\site-packages\\konlpy\\tag\\_hannanum.py\u001b[0m in \u001b[0;36m<module>\u001b[0;34m()\u001b[0m\n\u001b[1;32m      5\u001b[0m \u001b[0;32mimport\u001b[0m \u001b[0mre\u001b[0m\u001b[0;34m\u001b[0m\u001b[0m\n\u001b[1;32m      6\u001b[0m \u001b[0;34m\u001b[0m\u001b[0m\n\u001b[0;32m----> 7\u001b[0;31m \u001b[0;32mimport\u001b[0m \u001b[0mjpype\u001b[0m\u001b[0;34m\u001b[0m\u001b[0m\n\u001b[0m\u001b[1;32m      8\u001b[0m \u001b[0;34m\u001b[0m\u001b[0m\n\u001b[1;32m      9\u001b[0m \u001b[0;32mfrom\u001b[0m \u001b[0;34m.\u001b[0m\u001b[0;34m.\u001b[0m \u001b[0;32mimport\u001b[0m \u001b[0mjvm\u001b[0m\u001b[0;34m\u001b[0m\u001b[0m\n",
      "\u001b[0;31mModuleNotFoundError\u001b[0m: No module named 'jpype'"
     ],
     "output_type": "error"
    }
   ],
   "source": [
    "import konlpy\n"
   ]
  }
 ],
 "metadata": {
  "kernelspec": {
   "display_name": "Python 2",
   "language": "python",
   "name": "python2"
  },
  "language_info": {
   "codemirror_mode": {
    "name": "ipython",
    "version": 2
   },
   "file_extension": ".py",
   "mimetype": "text/x-python",
   "name": "python",
   "nbconvert_exporter": "python",
   "pygments_lexer": "ipython2",
   "version": "2.7.6"
  }
 },
 "nbformat": 4,
 "nbformat_minor": 0
}
